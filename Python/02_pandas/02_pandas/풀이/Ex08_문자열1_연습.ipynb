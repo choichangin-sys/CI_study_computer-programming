{
 "cells": [
  {
   "cell_type": "markdown",
   "metadata": {},
   "source": [
    "# 문자열 처리\n",
    "\n",
    "    - 파이썬의 기본 문자열 메소드\n",
    "\t- 정규표현식 문자열 처리\n",
    "\t- pandas의 문자열 메소드\n",
    "    \n",
    "    \n",
    "(1) 파이썬 기본 문자 관련 메소드\n",
    "    + upper / lower\t:대문자로 변경 / 소문자로 변경\n",
    "    + count\t: 문자열 출현 횟수 반환\n",
    "    + find\t: 찾고자 하는 단어의 첫글자 위치를 반환 ( 없으면 -1 반환)\n",
    "    + replace\t: 문자열을 다른 문자열로 치환\n",
    "    + strip / rstrip / lstrip\t: 문자열 좌우 공백 제거\n",
    "    + split\t: 구분자 기준으로 단어 분리\n",
    "    + ljust / rjust\t: 문자열 왼쪽(오른쪽)정렬하고 남은 길이만큼 공백처리하여 반환\n",
    "\n",
    "    \n",
    "    \n",
    "(2) 정규표현식 문자열 처리 – re 모듈\n",
    "\n",
    "    ^\t문자열 시작\t\n",
    "    [ ]\t문자집합이나 범위\n",
    "    $\t문자열 종료\t\n",
    "    { }\t횟수 또는 범위\n",
    "    *\t0개 이상\t\n",
    "    ( )\t소괄호 안의 문자를 하나의 문자로 인식\n",
    "    +\t1개 이상\t\n",
    "    |\tor 연산자 역할\n",
    "    ?\t0개 이거나 1개\t\n",
    "    .\t아무 문자\n",
    "\n",
    "    \\s\t공백문자\t\n",
    "    \\d\t숫자[0-9]와 동일\n",
    "    \\S\t공백문자가 아닌 나머지 문자\t\n",
    "    \\D\t숫자를 제외한 모든 문자\n",
    "    \\w\t알파벳이나 숫자\t\n",
    "    \\특수문자\t해당 특수문자\n",
    "    \\W\t알파벳이나 숫자를 제외한 문자\t\n",
    "    (?!)\t대소문자 구분하지 않음\n",
    "\n",
    "\n",
    "(3) pandas에서 text 분석을 위한 Series의 문자열 함수\n",
    "\t- 데이터 분석을 위해 문자열 정제작업을 간결하게 처리하는 메소드 제공\n",
    "    \n",
    "    cat\t: 선택적인 구분자와 함계 요소별 문자열 이어붙임\n",
    "    contains\t: 문자열이 패턴이나 정규표현식을 포함하는지 True/False 배열을 반환\n",
    "    count\t: 일치하는 패턴의 개수를 반환\n",
    "    findall\t: 각 문자열에 대해 일치하는 정규표현식의 전체 목록을 구함\n",
    "    join\t: Series외 각 요소를 주어진 구분자로 연결\n",
    "    match\t: 주어진 정규표현식으로 각 요소에 대한 re.match를 수행하여 일치하는 그룹의 리스트를 반환\n",
    "    get\t: i번째 요소를 반황\n",
    "\n"
   ]
  },
  {
   "cell_type": "code",
   "execution_count": null,
   "metadata": {},
   "outputs": [],
   "source": []
  },
  {
   "cell_type": "markdown",
   "metadata": {},
   "source": [
    "### 음원차트 데이타셋\n",
    "\n",
    "(1) 곡명(name)에서 10글자만 추출\n",
    "\n",
    "(2) 곡명을 단어들 중 첫 번째 단어만 추출\n",
    "\n",
    "(3) W로 시작하는 artist_name 추출\n",
    "\n",
    "(4) album_name에 'LOVE'이라는 단어가 들어있는 데이타 추출\n",
    "\n",
    "(5) album_name을 5글자로 줄이고 그 뒤는 ... 표시하여 album_name_ax 컬럼을 추가\n",
    "\n",
    "(6) artist_name에서 ( 또는 - 앞의 단어까지만 추출"
   ]
  },
  {
   "cell_type": "code",
   "execution_count": 2,
   "metadata": {},
   "outputs": [
    {
     "data": {
      "text/html": [
       "<div>\n",
       "<style scoped>\n",
       "    .dataframe tbody tr th:only-of-type {\n",
       "        vertical-align: middle;\n",
       "    }\n",
       "\n",
       "    .dataframe tbody tr th {\n",
       "        vertical-align: top;\n",
       "    }\n",
       "\n",
       "    .dataframe thead th {\n",
       "        text-align: right;\n",
       "    }\n",
       "</style>\n",
       "<table border=\"1\" class=\"dataframe\">\n",
       "  <thead>\n",
       "    <tr style=\"text-align: right;\">\n",
       "      <th></th>\n",
       "      <th>album_name</th>\n",
       "      <th>artist_name</th>\n",
       "      <th>name</th>\n",
       "      <th>좋아요</th>\n",
       "    </tr>\n",
       "    <tr>\n",
       "      <th>id</th>\n",
       "      <th></th>\n",
       "      <th></th>\n",
       "      <th></th>\n",
       "      <th></th>\n",
       "    </tr>\n",
       "  </thead>\n",
       "  <tbody>\n",
       "    <tr>\n",
       "      <th>31123659</th>\n",
       "      <td>`The Story of Light` EP.2 - The 6th Album</td>\n",
       "      <td>SHINee (샤이니)</td>\n",
       "      <td>독감 (Who Waits For Love)</td>\n",
       "      <td>12730</td>\n",
       "    </tr>\n",
       "    <tr>\n",
       "      <th>30086173</th>\n",
       "      <td>LIFE IS BEAUTY FULL</td>\n",
       "      <td>문문 (MoonMoon)</td>\n",
       "      <td>비행운</td>\n",
       "      <td>202347</td>\n",
       "    </tr>\n",
       "    <tr>\n",
       "      <th>30383758</th>\n",
       "      <td>종현 소품집 `이야기 Op.2`</td>\n",
       "      <td>종현 (JONGHYUN)</td>\n",
       "      <td>Lonely (Feat. 태연)</td>\n",
       "      <td>180606</td>\n",
       "    </tr>\n",
       "    <tr>\n",
       "      <th>30481578</th>\n",
       "      <td>마지막처럼</td>\n",
       "      <td>BLACKPINK</td>\n",
       "      <td>마지막처럼</td>\n",
       "      <td>159147</td>\n",
       "    </tr>\n",
       "    <tr>\n",
       "      <th>30380953</th>\n",
       "      <td>Illuminate (New Deluxe Ver.)</td>\n",
       "      <td>Shawn Mendes</td>\n",
       "      <td>There`s Nothing Holdin` Me Back</td>\n",
       "      <td>107309</td>\n",
       "    </tr>\n",
       "  </tbody>\n",
       "</table>\n",
       "</div>"
      ],
      "text/plain": [
       "                                         album_name    artist_name  \\\n",
       "id                                                                   \n",
       "31123659  `The Story of Light` EP.2 - The 6th Album   SHINee (샤이니)   \n",
       "30086173                        LIFE IS BEAUTY FULL  문문 (MoonMoon)   \n",
       "30383758                          종현 소품집 `이야기 Op.2`  종현 (JONGHYUN)   \n",
       "30481578                                      마지막처럼      BLACKPINK   \n",
       "30380953               Illuminate (New Deluxe Ver.)   Shawn Mendes   \n",
       "\n",
       "                                     name     좋아요  \n",
       "id                                                 \n",
       "31123659          독감 (Who Waits For Love)   12730  \n",
       "30086173                              비행운  202347  \n",
       "30383758                Lonely (Feat. 태연)  180606  \n",
       "30481578                            마지막처럼  159147  \n",
       "30380953  There`s Nothing Holdin` Me Back  107309  "
      ]
     },
     "execution_count": 2,
     "metadata": {},
     "output_type": "execute_result"
    }
   ],
   "source": [
    "import pandas as pd\n",
    "df = pd.read_excel('data/top100.xlsx', index_col='id')\n",
    "df.tail()"
   ]
  },
  {
   "cell_type": "code",
   "execution_count": 4,
   "metadata": {},
   "outputs": [
    {
     "data": {
      "text/plain": [
       "id\n",
       "31123659    `The Story\n",
       "30086173    LIFE IS BE\n",
       "30383758    종현 소품집 `이야\n",
       "30481578         마지막처럼\n",
       "30380953    Illuminate\n",
       "Name: album_name, dtype: object"
      ]
     },
     "execution_count": 4,
     "metadata": {},
     "output_type": "execute_result"
    }
   ],
   "source": [
    "# (1) 곡명(name)에서 10글자만 추출\n",
    "df['album_name'].apply(lambda x: x[:10]).tail()"
   ]
  },
  {
   "cell_type": "code",
   "execution_count": 8,
   "metadata": {},
   "outputs": [
    {
     "data": {
      "text/plain": [
       "id\n",
       "31123659          `The\n",
       "30086173          LIFE\n",
       "30383758            종현\n",
       "30481578         마지막처럼\n",
       "30380953    Illuminate\n",
       "Name: album_name, dtype: object"
      ]
     },
     "execution_count": 8,
     "metadata": {},
     "output_type": "execute_result"
    }
   ],
   "source": [
    "# (2) 곡명을 단어로 나눠서 첫 번째 단어만 추출\n",
    "df['album_name'].apply(lambda x: x.split()[0]).tail()"
   ]
  },
  {
   "cell_type": "code",
   "execution_count": 31,
   "metadata": {},
   "outputs": [
    {
     "data": {
      "text/plain": [
       "id\n",
       "31006730    What is Love?\n",
       "Name: album_name, dtype: object"
      ]
     },
     "execution_count": 31,
     "metadata": {},
     "output_type": "execute_result"
    }
   ],
   "source": [
    "# (3) W로 시작하는 artist_name 추출\n",
    "df.album_name[df['album_name'].apply(lambda x: True if x[:1] == 'W' else False)]"
   ]
  },
  {
   "cell_type": "code",
   "execution_count": 60,
   "metadata": {},
   "outputs": [
    {
     "data": {
      "text/plain": [
       "id\n",
       "31085237          LOVE YOURSELF 轉 `Tear`\n",
       "31085238          LOVE YOURSELF 轉 `Tear`\n",
       "30637982           LOVE YOURSELF 承 `Her`\n",
       "31085244          LOVE YOURSELF 轉 `Tear`\n",
       "31085243          LOVE YOURSELF 轉 `Tear`\n",
       "31085240          LOVE YOURSELF 轉 `Tear`\n",
       "31085242          LOVE YOURSELF 轉 `Tear`\n",
       "31085241          LOVE YOURSELF 轉 `Tear`\n",
       "31085239          LOVE YOURSELF 轉 `Tear`\n",
       "31085245          LOVE YOURSELF 轉 `Tear`\n",
       "31085236          LOVE YOURSELF 轉 `Tear`\n",
       "31085246          LOVE YOURSELF 轉 `Tear`\n",
       "31113142    FAKE LOVE (Rocking Vibe Mix)\n",
       "Name: album_name, dtype: object"
      ]
     },
     "execution_count": 60,
     "metadata": {},
     "output_type": "execute_result"
    }
   ],
   "source": [
    "# (4) album_name에 'LOVE'이라는 단어가 들어있는 데이타 추출\n",
    "df.album_name[df['album_name'].apply(lambda x: True if x.find('LOVE') != -1 else False)]"
   ]
  },
  {
   "cell_type": "code",
   "execution_count": 57,
   "metadata": {},
   "outputs": [
    {
     "data": {
      "text/plain": [
       "id\n",
       "31093710                                     Red Diary Page.2\n",
       "31085237                               LOVE YOURSELF 轉 `Tear`\n",
       "31113240                                             1÷χ=1 ()\n",
       "31113241                                             1÷χ=1 ()\n",
       "31113243                                             1÷χ=1 ()\n",
       "30699142                                            About You\n",
       "30960341                                0+1=1 (I PROMISE YOU)\n",
       "31113242                                             1÷χ=1 ()\n",
       "31052421    여자친구 The 6th Mini Album 'Time for the moon night'\n",
       "31085238                               LOVE YOURSELF 轉 `Tear`\n",
       "31113244                                             1÷χ=1 ()\n",
       "30568338                                     1X1=1(TO BE ONE)\n",
       "31035061                                    건반 위의 하이에나 Part.4\n",
       "31098083                                        BINGLE BANGLE\n",
       "30725482                          1-1=0 (NOTHING WITHOUT YOU)\n",
       "30637982                                LOVE YOURSELF 承 `Her`\n",
       "31085244                               LOVE YOURSELF 轉 `Tear`\n",
       "30930312                                0+1=1 (I PROMISE YOU)\n",
       "30244931                                 YOU NEVER WALK ALONE\n",
       "31085243                               LOVE YOURSELF 轉 `Tear`\n",
       "31085240                               LOVE YOURSELF 轉 `Tear`\n",
       "31085242                               LOVE YOURSELF 轉 `Tear`\n",
       "31085241                               LOVE YOURSELF 轉 `Tear`\n",
       "30849733                                투유 프로젝트 - 슈가맨2 Part.2\n",
       "31085239                               LOVE YOURSELF 轉 `Tear`\n",
       "30962526                              `키스 먼저 할까요?` OST Part.3\n",
       "31085245                               LOVE YOURSELF 轉 `Tear`\n",
       "31006730                                        What is Love?\n",
       "31055324                                                 I am\n",
       "31123630                                          The Feeling\n",
       "                                  ...                        \n",
       "31009486                   Blooming Days - The 2nd Mini Album\n",
       "30864993     The Perfect Red Velvet - The 2nd Album Repackage\n",
       "30341745                                      FATE NUMBER FOR\n",
       "31009484                   Blooming Days - The 2nd Mini Album\n",
       "30939452                                                   바람\n",
       "31093714                                     Red Diary Page.2\n",
       "30492279                                        /// (너 먹구름 비)\n",
       "30690674                                          REMEMBER ME\n",
       "31009482                   Blooming Days - The 2nd Mini Album\n",
       "30781481                                        Merry & Happy\n",
       "31009488                   Blooming Days - The 2nd Mini Album\n",
       "30550388                                                   0M\n",
       "30957524                                    고등래퍼2 팀대항전 Part.1\n",
       "30877002                                                그리고 봄\n",
       "31009485                   Blooming Days - The 2nd Mini Album\n",
       "30512671                   The Red Summer - Summer Mini Album\n",
       "30486509                                        LISTEN 010 좋니\n",
       "7928705                           Blue Neighbourhood (Deluxe)\n",
       "30613202                                          시차 (We Are)\n",
       "30806580                                            instagram\n",
       "31097924            `The Story of Light` EP.1 - The 6th Album\n",
       "31019586                                          고등래퍼2 Final\n",
       "30700708                                          twicetagram\n",
       "31126160                                             Playlist\n",
       "30985406                                    나의 아저씨 OST Part.2\n",
       "31123659            `The Story of Light` EP.2 - The 6th Album\n",
       "30086173                                  LIFE IS BEAUTY FULL\n",
       "30383758                                    종현 소품집 `이야기 Op.2`\n",
       "30481578                                                마지막처럼\n",
       "30380953                         Illuminate (New Deluxe Ver.)\n",
       "Name: album_name, Length: 100, dtype: object"
      ]
     },
     "execution_count": 57,
     "metadata": {},
     "output_type": "execute_result"
    }
   ],
   "source": [
    "# 기타\n",
    "df['album_name'].str.strip() # 좌우 공백제거\n",
    "df['album_name'].str.lstrip() # 좌 공백제거\n",
    "df['album_name'].str.rstrip() # 우 공백제거\n",
    "df['album_name'].str.rstrip(')') # 우측의 ) 제거\n",
    "df['album_name'].str.lower() # 소문자로\n",
    "df['album_name'].str.upper() # 대문자로\n",
    "\n",
    "df['album_name'].str.replace('(UNDIVIDED)','테스트')\n",
    "df['album_name'].str.replace('(UNDIVIDED)','') # 지우고 싶을 때 - ()는 남아있는데???"
   ]
  },
  {
   "cell_type": "code",
   "execution_count": 22,
   "metadata": {},
   "outputs": [
    {
     "data": {
      "text/plain": [
       "id\n",
       "31123659    `The Story...\n",
       "30086173    LIFE IS BE...\n",
       "30383758    종현 소품집 `이야...\n",
       "30481578         마지막처럼...\n",
       "30380953    Illuminate...\n",
       "Name: album_name_ax, dtype: object"
      ]
     },
     "execution_count": 22,
     "metadata": {},
     "output_type": "execute_result"
    }
   ],
   "source": [
    "# (5) album_name을 10글자로 줄이고 그 뒤는 ... 표시하여 album_name_ax 컬럼을 추가\n",
    "# [힌트] 함수 선언하여  apply 함수이용 가능\n",
    "df['album_name_ax'] = df['album_name'].apply(lambda x: x[:10] + '...')\n",
    "df['album_name_ax'].tail()"
   ]
  },
  {
   "cell_type": "markdown",
   "metadata": {},
   "source": [
    "### [추가]  톱 100 안에 가수별 곡명 수"
   ]
  },
  {
   "cell_type": "code",
   "execution_count": 54,
   "metadata": {},
   "outputs": [
    {
     "data": {
      "text/html": [
       "<div>\n",
       "<style scoped>\n",
       "    .dataframe tbody tr th:only-of-type {\n",
       "        vertical-align: middle;\n",
       "    }\n",
       "\n",
       "    .dataframe tbody tr th {\n",
       "        vertical-align: top;\n",
       "    }\n",
       "\n",
       "    .dataframe thead th {\n",
       "        text-align: right;\n",
       "    }\n",
       "</style>\n",
       "<table border=\"1\" class=\"dataframe\">\n",
       "  <thead>\n",
       "    <tr style=\"text-align: right;\">\n",
       "      <th></th>\n",
       "      <th>album_name</th>\n",
       "    </tr>\n",
       "    <tr>\n",
       "      <th>artist_name</th>\n",
       "      <th></th>\n",
       "    </tr>\n",
       "  </thead>\n",
       "  <tbody>\n",
       "    <tr>\n",
       "      <th>방탄소년단</th>\n",
       "      <td>14</td>\n",
       "    </tr>\n",
       "    <tr>\n",
       "      <th>EXO-CBX (첸백시)</th>\n",
       "      <td>7</td>\n",
       "    </tr>\n",
       "    <tr>\n",
       "      <th>Wanna One (워너원)</th>\n",
       "      <td>5</td>\n",
       "    </tr>\n",
       "    <tr>\n",
       "      <th>SHINee (샤이니)</th>\n",
       "      <td>4</td>\n",
       "    </tr>\n",
       "    <tr>\n",
       "      <th>멜로망스</th>\n",
       "      <td>3</td>\n",
       "    </tr>\n",
       "  </tbody>\n",
       "</table>\n",
       "</div>"
      ],
      "text/plain": [
       "                 album_name\n",
       "artist_name                \n",
       "방탄소년단                    14\n",
       "EXO-CBX (첸백시)             7\n",
       "Wanna One (워너원)           5\n",
       "SHINee (샤이니)              4\n",
       "멜로망스                      3"
      ]
     },
     "execution_count": 54,
     "metadata": {},
     "output_type": "execute_result"
    }
   ],
   "source": [
    "top100 = df.sort_values(by='좋아요', ascending=False)[:100]\n",
    "top100[['artist_name', 'album_name']].groupby('artist_name').count().sort_values(by='album_name', ascending=False).head()"
   ]
  },
  {
   "cell_type": "code",
   "execution_count": null,
   "metadata": {},
   "outputs": [],
   "source": []
  }
 ],
 "metadata": {
  "kernelspec": {
   "display_name": "Python 3",
   "language": "python",
   "name": "python3"
  },
  "language_info": {
   "codemirror_mode": {
    "name": "ipython",
    "version": 3
   },
   "file_extension": ".py",
   "mimetype": "text/x-python",
   "name": "python",
   "nbconvert_exporter": "python",
   "pygments_lexer": "ipython3",
   "version": "3.7.3"
  }
 },
 "nbformat": 4,
 "nbformat_minor": 2
}
