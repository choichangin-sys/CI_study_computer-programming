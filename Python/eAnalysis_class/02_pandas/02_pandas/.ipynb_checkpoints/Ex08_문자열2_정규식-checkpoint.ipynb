{
 "cells": [
  {
   "cell_type": "markdown",
   "metadata": {},
   "source": [
    "## 정규식 표현식\n",
    "\n",
    "\n",
    "1)  기본 정규표현식 문법 – re 모듈\n",
    "\n",
    "    ^    문자열 시작    \n",
    "    [ ]  문자집합이나 범위\n",
    "    $    문자열 종료    \n",
    "    { }  횟수 또는 범위\n",
    "    *    0개 이상    \n",
    "    ( )  소괄호 안의 문자를 하나의 문자로 인식\n",
    "    +    1개 이상    \n",
    "    |    or 연산자 역할\n",
    "    ?    0개 이거나 1개    \n",
    "    .    아무 문자\n",
    "\n",
    "2)  정규식 특수 문자\n",
    "\n",
    "    \\s    공백문자    \n",
    "    \\S    공백문자가 아닌 나머지 문자 \n",
    "    \n",
    "    \\d    숫자[0-9]와 동일   \n",
    "    \\D    숫자를 제외한 모든 문자\n",
    "    \n",
    "    \\w    알파벳이나 숫자    \n",
    "    \\W    알파벳이나 숫자를 제외한 문자    \n",
    "    \\특수문자    해당 특수문자\n",
    "\n",
    "\n",
    "\n",
    "3) 정규식 메소드\n",
    "    \n",
    "    search : 첫번째로 찾은 패턴의 양 끝 인덱스를 반환\n",
    "    match : 문자열의 처음부터 검새갛여 찾아낸 패턴의 양 끝 인덱스를 반환\n",
    "    fullmatch : 전체 문자열이 일치하는지 검사\n",
    "    split : 지정한 패턴으로 잘나낸 문자열을 리스트로 반환\n",
    "    findall : 지정한 패턴을 찾아 리스트로 반환\n",
    "    finditer : findall과 동일하지만 iterator를 반환\n",
    "    sub : 첫번째 인자로 전달한 패턴을 두번째 인자로 전달한으로 교체\n",
    "\n",
    "\n",
    "##### [연습권장] https://regex101.com \n",
    "\n"
   ]
  },
  {
   "cell_type": "code",
   "execution_count": 15,
   "metadata": {},
   "outputs": [
    {
     "name": "stdout",
     "output_type": "stream",
     "text": [
      "<re.Match object; span=(0, 2), match='비밀'>\n",
      "None\n",
      "<re.Match object; span=(0, 1), match='A'>\n"
     ]
    }
   ],
   "source": [
    "import re\n",
    "\n",
    "pattern = \"비밀\"\n",
    "str = \"비밀은없다\"       \n",
    "re.match(pattern, str)  \n",
    "\n",
    "\n",
    "str2 = \"진짜비밀은없다\"\n",
    "re.match(pattern, str2) # 출력결과 없음 (매칭없음)\n",
    "\n",
    "# 위의 2개의 차이로 이유를 추측한다면?\n",
    "# match 메소드는 문자열의 첫번째부터 매칭이 되어야 하는 듯\n",
    "# 아래처럼 영어로 해도 동일 결과\n",
    "# pattern = 'A'\n",
    "# str3 = \"ABC DEF GH\"\n",
    "# re.match(pattern, str3)\n"
   ]
  },
  {
   "cell_type": "code",
   "execution_count": 11,
   "metadata": {},
   "outputs": [
    {
     "data": {
      "text/plain": [
       "'비밀'"
      ]
     },
     "execution_count": 11,
     "metadata": {},
     "output_type": "execute_result"
    }
   ],
   "source": [
    "matchData = re.match(pattern, str)\n",
    "matchData.group()       \n",
    "\n",
    "# matchData2 = re.match(pattern, str2)\n",
    "# matchData2.group()  # \"진짜비밀은없다\" : 에러발생"
   ]
  },
  {
   "cell_type": "code",
   "execution_count": 16,
   "metadata": {},
   "outputs": [],
   "source": [
    "role = re.compile(r'(\\w+)\\s+\\d+-\\d+-\\d+')  # r'' : 정규식표현\n",
    "            # \\w+ : 영문자나 숫자 1개이상\n",
    "            # \\s+ : 공백이나 탭 1개이상\n",
    "            # \\d+ : 숫자 1개 이상\n",
    "            # - : - 기초"
   ]
  },
  {
   "cell_type": "code",
   "execution_count": 22,
   "metadata": {},
   "outputs": [
    {
     "data": {
      "text/plain": [
       "'홍길동 010-1123-2222'"
      ]
     },
     "execution_count": 22,
     "metadata": {},
     "output_type": "execute_result"
    }
   ],
   "source": [
    "result = role.search('홍길동 010-1123-2222')  # 문자열에서 role의 규칙이 적용되는 검색\n",
    "result\n",
    "result.group()\n",
    "result.group(1)\n",
    "# result.group(2)    # 에러 - group(1)에서 부분그룹으로 '홍길동' 결과를 가져온 것이 2가 인덱스를 의미하지 않는다\n",
    "result.group(0)  # result.group() 와의 차이점"
   ]
  },
  {
   "cell_type": "code",
   "execution_count": 23,
   "metadata": {},
   "outputs": [
    {
     "data": {
      "text/plain": [
       "['서울시', '경기도', '인천시', '부천시', '제주도', '강원', '']"
      ]
     },
     "execution_count": 23,
     "metadata": {},
     "output_type": "execute_result"
    }
   ],
   "source": [
    "source = '서울시/경기도/인천시/부천시///제주도,강원,'\n",
    "#re.split('/', source)           # / 하나로 구분\n",
    "#re.split('/+', source)          # / 하나이상으로도 구분\n",
    "re.split('/+|,+', source)        # / 와 ,로 구분"
   ]
  },
  {
   "cell_type": "code",
   "execution_count": 24,
   "metadata": {},
   "outputs": [
    {
     "name": "stdout",
     "output_type": "stream",
     "text": [
      "200.99 / 180.55\n"
     ]
    }
   ],
   "source": [
    "# 문자열 데이타에서 공급면적과 전용면적 숫자데이타만 추출하기\n",
    "# 정규식 2개 : 공급면적 200.99제곱미터, 전용면적 180.55제곱미터 여기서 숫자만 추출하기 위해\n",
    "\n",
    "source = \"ModelA 공급면적 200.99제곱미터 전용면적 180.55제곱미터\"\n",
    "# data1 = re.findall('공급면적\\s+(.*?)제곱미터',  source)\n",
    "# data2 = re.findall('전용면적\\s+(.*?)제곱미터',  source)\n",
    "                      # \\s+: 공백이 1개 이상\n",
    "                      # .* : 점(.)이 0개 이상\n",
    "                      # (.*?) : 자체가 문자 숫자 모든 글자 포함 (모든 글자를 하나의 내용으로 인식하고자 할 때)\n",
    "# print(data1 ,'/' , data2)  # 결과가 리스트형태인데\n",
    "                           # data1 변수에서 shift+tab을 눌려보면 list 형태임을 알 수 있다.\n",
    "data1 = re.findall('공급면적\\s+(.*?)제곱미터',  source)[0]\n",
    "data2 = re.findall('전용면적\\s+(.*?)제곱미터',  source)[0]\n",
    "print(data1 ,'/' , data2)"
   ]
  },
  {
   "cell_type": "markdown",
   "metadata": {},
   "source": [
    "## 정규식 표현 포함하여 이메일 패턴 확인하기"
   ]
  },
  {
   "cell_type": "code",
   "execution_count": null,
   "metadata": {},
   "outputs": [],
   "source": [
    "import pandas as pd\n",
    "import numpy as np\n",
    "import re\n",
    "\n",
    "\n",
    "people_list = {'홍길동':'hong@gmail.com', '박길동':'park@naver.com',\n",
    "              '홍길자':'gil.ja@gmail.com', '박길자':'gilja@naver.com',\n",
    "              '홍홍이':'hong@test', '아무개':np.nan}\n",
    "email_info = pd.Series(people_list) # Series 객체\n",
    "email_info"
   ]
  },
  {
   "cell_type": "code",
   "execution_count": null,
   "metadata": {},
   "outputs": [],
   "source": [
    "# naver 사용자만 추출한다면?\n",
    "email_info.str.contains('naver')"
   ]
  },
  {
   "cell_type": "code",
   "execution_count": null,
   "metadata": {},
   "outputs": [],
   "source": [
    "# 이메일 패턴 확인\n",
    "p = r'[a-z0-9._!^$]+@[a-z0-9]+\\.[a-z]{2,4}'\n",
    "     # a-zA-Z0-9._!^$  : 소문자 ,숫자 , 특수문자(.!^$)\n",
    "     # + 이어주는 표시\n",
    "     # @[a-z0-9] : @문자 뒤로 소문자와 숫자로만 구성\n",
    "     # + 이어주는 표시\n",
    "     # 점(.)만 찍으면 문자표시기이게 특수문자 점(.)을 나타내기 위해 \\.으로 표기\n",
    "     # [a-z]{2,4} : 소문자가 2~4개\n",
    "email_info.str.findall(p, flags=re.IGNORECASE)\n",
    "     # [ 과제 ] co.kr 이메일이라면?"
   ]
  },
  {
   "cell_type": "code",
   "execution_count": null,
   "metadata": {},
   "outputs": [],
   "source": [
    "# 각각의 요소로 구분하려면 ( )로 묶는다\n",
    "p2 = r'([a-z0-9._!^$]+)@([a-z0-9]+)\\.([a-z]{2,4})'\n",
    "email_info.str.findall(p2, flags=re.IGNORECASE)"
   ]
  },
  {
   "cell_type": "code",
   "execution_count": null,
   "metadata": {},
   "outputs": [],
   "source": [
    "data = email_info.str.findall(p2, flags=re.IGNORECASE)\n",
    "data.get(5)"
   ]
  }
 ],
 "metadata": {
  "kernelspec": {
   "display_name": "Python 3",
   "language": "python",
   "name": "python3"
  },
  "language_info": {
   "codemirror_mode": {
    "name": "ipython",
    "version": 3
   },
   "file_extension": ".py",
   "mimetype": "text/x-python",
   "name": "python",
   "nbconvert_exporter": "python",
   "pygments_lexer": "ipython3",
   "version": "3.7.3"
  }
 },
 "nbformat": 4,
 "nbformat_minor": 2
}
