{
 "cells": [
  {
   "cell_type": "markdown",
   "metadata": {},
   "source": [
    "## 판다스 (Pandas)\n",
    "\n",
    "- 핵심객체는 DataFrame이다\n",
    "- 데이타프레임은 2차원 데이터 구조체로 넘파이보다 편리하게 데이타 핸들링한다.\n",
    "- R 언어의 데이타 프레임과 비슷하고 많이 사용된다\n",
    "\n",
    "\n",
    "#### DataFrame 에서 데이타 필터링 ( 추출하기 )\n",
    "\n",
    "0. 맨처음에는\n",
    "\n",
    "    + df[2] : 2행의 데이타 추출\n",
    "    + df['A'] : A열(컬럼) 데이타 추출\n",
    "    \n",
    "    + df[n:m] : n번째부터 m-1번째까지의 행 추출\n",
    "        \n",
    "    ` 행과 열을 섞어서 추출함.\n",
    "    ` 판다스를 만든 사람이 쓴 책의 번역서를 보면 이 부분을 후회한다고 나옴\n",
    "      \n",
    "\n",
    "1. 열(컬럼) 추출\n",
    "\n",
    "    + df.컬럼명\n",
    "    + df['컬럼명']\n",
    "       \n",
    "    \n",
    "2. 행 추출\n",
    "\n",
    "    + df.loc[] : 인덱스(순서)와 명칭으로 추출\n",
    "    + df.iloc[] : 인덱스(순서)로 추출\n",
    "    + df.ix[] : 명칭 기반 인덱싱과 위치 기반 인덱싱 모두 사용 (* 그러나 곧 사라질 예정 )\n",
    "\n",
    "    [참고] \n",
    "    \n",
    "    - 위 3 연산자는 노련한 개발자들도 혼동하기에, 일반적으로 하나만 선택해서 사용하는 것을 권장한단다\n",
    "    - 넘파이와 유사한 부분으로 더우 혼동하기 쉽다\n",
    "    - 판다스의 DataFrame와 Series에서도 다른이 있어서 주의해야 한다\n",
    "    \n",
    "    \n",
    "3. 행과 열에서 추출\n",
    "    \n",
    "    + df.loc[2, 3] : 2 행의 3열 데이타\n",
    "    + df.loc[1:3, 2:4] : 1부터 3행전까지의 행에서 2부터 4전까지의 열의 데이타"
   ]
  },
  {
   "cell_type": "markdown",
   "metadata": {},
   "source": [
    "한번 쭉 훑어보기"
   ]
  },
  {
   "cell_type": "code",
   "execution_count": 2,
   "metadata": {
    "scrolled": true
   },
   "outputs": [
    {
     "data": {
      "text/html": [
       "<div>\n",
       "<style scoped>\n",
       "    .dataframe tbody tr th:only-of-type {\n",
       "        vertical-align: middle;\n",
       "    }\n",
       "\n",
       "    .dataframe tbody tr th {\n",
       "        vertical-align: top;\n",
       "    }\n",
       "\n",
       "    .dataframe thead th {\n",
       "        text-align: right;\n",
       "    }\n",
       "</style>\n",
       "<table border=\"1\" class=\"dataframe\">\n",
       "  <thead>\n",
       "    <tr style=\"text-align: right;\">\n",
       "      <th></th>\n",
       "      <th>name</th>\n",
       "      <th>age</th>\n",
       "      <th>dept</th>\n",
       "    </tr>\n",
       "  </thead>\n",
       "  <tbody>\n",
       "    <tr>\n",
       "      <th>일</th>\n",
       "      <td>홍길동</td>\n",
       "      <td>22</td>\n",
       "      <td>컴공</td>\n",
       "    </tr>\n",
       "    <tr>\n",
       "      <th>이</th>\n",
       "      <td>박길동</td>\n",
       "      <td>33</td>\n",
       "      <td>국어</td>\n",
       "    </tr>\n",
       "    <tr>\n",
       "      <th>삼</th>\n",
       "      <td>김길동</td>\n",
       "      <td>44</td>\n",
       "      <td>산업</td>\n",
       "    </tr>\n",
       "  </tbody>\n",
       "</table>\n",
       "</div>"
      ],
      "text/plain": [
       "  name  age dept\n",
       "일  홍길동   22   컴공\n",
       "이  박길동   33   국어\n",
       "삼  김길동   44   산업"
      ]
     },
     "execution_count": 2,
     "metadata": {},
     "output_type": "execute_result"
    }
   ],
   "source": [
    "import pandas as pd\n",
    "\n",
    "# 데이타 프레임 자료 생성\n",
    "mydata = {\n",
    "          'name':['홍길동','박길동','김길동'], \n",
    "          'age':[22,33,44], \n",
    "          'dept':['컴공','국어','산업']\n",
    "         }\n",
    "df = pd.DataFrame(mydata)\n",
    "df                 \n",
    "\n",
    "# 인덱스 지정도 가능 \n",
    "df3=pd.DataFrame(mydata, index=['일','이','삼'])\n",
    "df3"
   ]
  },
  {
   "cell_type": "code",
   "execution_count": 2,
   "metadata": {},
   "outputs": [
    {
     "data": {
      "text/plain": [
       "RangeIndex(start=0, stop=3, step=1)"
      ]
     },
     "execution_count": 2,
     "metadata": {},
     "output_type": "execute_result"
    }
   ],
   "source": [
    "df.index"
   ]
  },
  {
   "cell_type": "code",
   "execution_count": 3,
   "metadata": {},
   "outputs": [
    {
     "data": {
      "text/plain": [
       "Index(['name', 'age', 'dept'], dtype='object')"
      ]
     },
     "execution_count": 3,
     "metadata": {},
     "output_type": "execute_result"
    }
   ],
   "source": [
    "df.columns"
   ]
  },
  {
   "cell_type": "code",
   "execution_count": 4,
   "metadata": {},
   "outputs": [
    {
     "data": {
      "text/plain": [
       "array([['홍길동', 22, '컴공'],\n",
       "       ['박길동', 33, '국어'],\n",
       "       ['김길동', 44, '산업']], dtype=object)"
      ]
     },
     "execution_count": 4,
     "metadata": {},
     "output_type": "execute_result"
    }
   ],
   "source": [
    "df.values"
   ]
  },
  {
   "cell_type": "markdown",
   "metadata": {},
   "source": [
    "### 컬럼 추가, 행 추가"
   ]
  },
  {
   "cell_type": "code",
   "execution_count": 5,
   "metadata": {},
   "outputs": [
    {
     "data": {
      "text/html": [
       "<div>\n",
       "<style scoped>\n",
       "    .dataframe tbody tr th:only-of-type {\n",
       "        vertical-align: middle;\n",
       "    }\n",
       "\n",
       "    .dataframe tbody tr th {\n",
       "        vertical-align: top;\n",
       "    }\n",
       "\n",
       "    .dataframe thead th {\n",
       "        text-align: right;\n",
       "    }\n",
       "</style>\n",
       "<table border=\"1\" class=\"dataframe\">\n",
       "  <thead>\n",
       "    <tr style=\"text-align: right;\">\n",
       "      <th></th>\n",
       "      <th>name</th>\n",
       "      <th>age</th>\n",
       "      <th>dept</th>\n",
       "      <th>gender</th>\n",
       "    </tr>\n",
       "  </thead>\n",
       "  <tbody>\n",
       "    <tr>\n",
       "      <th>0</th>\n",
       "      <td>홍길동</td>\n",
       "      <td>22</td>\n",
       "      <td>컴공</td>\n",
       "      <td>여자</td>\n",
       "    </tr>\n",
       "    <tr>\n",
       "      <th>1</th>\n",
       "      <td>박길동</td>\n",
       "      <td>33</td>\n",
       "      <td>국어</td>\n",
       "      <td>여자</td>\n",
       "    </tr>\n",
       "    <tr>\n",
       "      <th>2</th>\n",
       "      <td>김길동</td>\n",
       "      <td>44</td>\n",
       "      <td>산업</td>\n",
       "      <td>남자</td>\n",
       "    </tr>\n",
       "  </tbody>\n",
       "</table>\n",
       "</div>"
      ],
      "text/plain": [
       "  name  age dept gender\n",
       "0  홍길동   22   컴공     여자\n",
       "1  박길동   33   국어     여자\n",
       "2  김길동   44   산업     남자"
      ]
     },
     "execution_count": 5,
     "metadata": {},
     "output_type": "execute_result"
    }
   ],
   "source": [
    "# 컬럼 추가\n",
    "df['gender'] = ['여자','여자','남자']\n",
    "df"
   ]
  },
  {
   "cell_type": "code",
   "execution_count": 6,
   "metadata": {},
   "outputs": [
    {
     "data": {
      "text/html": [
       "<div>\n",
       "<style scoped>\n",
       "    .dataframe tbody tr th:only-of-type {\n",
       "        vertical-align: middle;\n",
       "    }\n",
       "\n",
       "    .dataframe tbody tr th {\n",
       "        vertical-align: top;\n",
       "    }\n",
       "\n",
       "    .dataframe thead th {\n",
       "        text-align: right;\n",
       "    }\n",
       "</style>\n",
       "<table border=\"1\" class=\"dataframe\">\n",
       "  <thead>\n",
       "    <tr style=\"text-align: right;\">\n",
       "      <th></th>\n",
       "      <th>name</th>\n",
       "      <th>age</th>\n",
       "      <th>dept</th>\n",
       "      <th>gender</th>\n",
       "    </tr>\n",
       "  </thead>\n",
       "  <tbody>\n",
       "    <tr>\n",
       "      <th>0</th>\n",
       "      <td>홍길동</td>\n",
       "      <td>22</td>\n",
       "      <td>컴공</td>\n",
       "      <td>여자</td>\n",
       "    </tr>\n",
       "    <tr>\n",
       "      <th>1</th>\n",
       "      <td>박길동</td>\n",
       "      <td>33</td>\n",
       "      <td>국어</td>\n",
       "      <td>여자</td>\n",
       "    </tr>\n",
       "    <tr>\n",
       "      <th>2</th>\n",
       "      <td>김길동</td>\n",
       "      <td>44</td>\n",
       "      <td>산업</td>\n",
       "      <td>남자</td>\n",
       "    </tr>\n",
       "    <tr>\n",
       "      <th>3</th>\n",
       "      <td>이길동</td>\n",
       "      <td>55</td>\n",
       "      <td>기계</td>\n",
       "      <td>남자</td>\n",
       "    </tr>\n",
       "  </tbody>\n",
       "</table>\n",
       "</div>"
      ],
      "text/plain": [
       "  name  age dept gender\n",
       "0  홍길동   22   컴공     여자\n",
       "1  박길동   33   국어     여자\n",
       "2  김길동   44   산업     남자\n",
       "3  이길동   55   기계     남자"
      ]
     },
     "execution_count": 6,
     "metadata": {},
     "output_type": "execute_result"
    }
   ],
   "source": [
    "# 행 추가 (인덱스 3에 추가)\n",
    "df.loc[3] = ['이길동',55, '기계', '남자']\n",
    "df"
   ]
  },
  {
   "cell_type": "code",
   "execution_count": 7,
   "metadata": {
    "scrolled": true
   },
   "outputs": [
    {
     "data": {
      "text/html": [
       "<div>\n",
       "<style scoped>\n",
       "    .dataframe tbody tr th:only-of-type {\n",
       "        vertical-align: middle;\n",
       "    }\n",
       "\n",
       "    .dataframe tbody tr th {\n",
       "        vertical-align: top;\n",
       "    }\n",
       "\n",
       "    .dataframe thead th {\n",
       "        text-align: right;\n",
       "    }\n",
       "</style>\n",
       "<table border=\"1\" class=\"dataframe\">\n",
       "  <thead>\n",
       "    <tr style=\"text-align: right;\">\n",
       "      <th></th>\n",
       "      <th>name</th>\n",
       "      <th>age</th>\n",
       "      <th>dept</th>\n",
       "      <th>gender</th>\n",
       "    </tr>\n",
       "  </thead>\n",
       "  <tbody>\n",
       "    <tr>\n",
       "      <th>0</th>\n",
       "      <td>홍길동</td>\n",
       "      <td>22</td>\n",
       "      <td>컴공</td>\n",
       "      <td>여자</td>\n",
       "    </tr>\n",
       "    <tr>\n",
       "      <th>1</th>\n",
       "      <td>박길동</td>\n",
       "      <td>33</td>\n",
       "      <td>국어</td>\n",
       "      <td>여자</td>\n",
       "    </tr>\n",
       "    <tr>\n",
       "      <th>2</th>\n",
       "      <td>김길동</td>\n",
       "      <td>44</td>\n",
       "      <td>산업</td>\n",
       "      <td>남자</td>\n",
       "    </tr>\n",
       "    <tr>\n",
       "      <th>3</th>\n",
       "      <td>이길동</td>\n",
       "      <td>55</td>\n",
       "      <td>기계</td>\n",
       "      <td>남자</td>\n",
       "    </tr>\n",
       "    <tr>\n",
       "      <th>5</th>\n",
       "      <td>장길동</td>\n",
       "      <td>55</td>\n",
       "      <td>기계</td>\n",
       "      <td>남자</td>\n",
       "    </tr>\n",
       "  </tbody>\n",
       "</table>\n",
       "</div>"
      ],
      "text/plain": [
       "  name  age dept gender\n",
       "0  홍길동   22   컴공     여자\n",
       "1  박길동   33   국어     여자\n",
       "2  김길동   44   산업     남자\n",
       "3  이길동   55   기계     남자\n",
       "5  장길동   55   기계     남자"
      ]
     },
     "execution_count": 7,
     "metadata": {},
     "output_type": "execute_result"
    }
   ],
   "source": [
    "# 행 추가 ( 인덱스 5에 추가) : iloc로 하면 에러 발생하는데\n",
    "df.loc[5] = ['장길동',55, '기계', '남자']\n",
    "df"
   ]
  },
  {
   "cell_type": "markdown",
   "metadata": {},
   "source": [
    "### 변경"
   ]
  },
  {
   "cell_type": "code",
   "execution_count": 8,
   "metadata": {},
   "outputs": [
    {
     "data": {
      "text/html": [
       "<div>\n",
       "<style scoped>\n",
       "    .dataframe tbody tr th:only-of-type {\n",
       "        vertical-align: middle;\n",
       "    }\n",
       "\n",
       "    .dataframe tbody tr th {\n",
       "        vertical-align: top;\n",
       "    }\n",
       "\n",
       "    .dataframe thead th {\n",
       "        text-align: right;\n",
       "    }\n",
       "</style>\n",
       "<table border=\"1\" class=\"dataframe\">\n",
       "  <thead>\n",
       "    <tr style=\"text-align: right;\">\n",
       "      <th></th>\n",
       "      <th>name</th>\n",
       "      <th>age</th>\n",
       "      <th>dept</th>\n",
       "      <th>gender</th>\n",
       "    </tr>\n",
       "  </thead>\n",
       "  <tbody>\n",
       "    <tr>\n",
       "      <th>0</th>\n",
       "      <td>홍길동</td>\n",
       "      <td>22</td>\n",
       "      <td>컴공</td>\n",
       "      <td>여자</td>\n",
       "    </tr>\n",
       "    <tr>\n",
       "      <th>2</th>\n",
       "      <td>김길동</td>\n",
       "      <td>44</td>\n",
       "      <td>산업</td>\n",
       "      <td>남자</td>\n",
       "    </tr>\n",
       "    <tr>\n",
       "      <th>5</th>\n",
       "      <td>장길동</td>\n",
       "      <td>55</td>\n",
       "      <td>기계</td>\n",
       "      <td>남자</td>\n",
       "    </tr>\n",
       "    <tr>\n",
       "      <th>3</th>\n",
       "      <td>이길동</td>\n",
       "      <td>55</td>\n",
       "      <td>기계</td>\n",
       "      <td>남자</td>\n",
       "    </tr>\n",
       "    <tr>\n",
       "      <th>1</th>\n",
       "      <td>박길동</td>\n",
       "      <td>33</td>\n",
       "      <td>국어</td>\n",
       "      <td>여자</td>\n",
       "    </tr>\n",
       "  </tbody>\n",
       "</table>\n",
       "</div>"
      ],
      "text/plain": [
       "  name  age dept gender\n",
       "0  홍길동   22   컴공     여자\n",
       "2  김길동   44   산업     남자\n",
       "5  장길동   55   기계     남자\n",
       "3  이길동   55   기계     남자\n",
       "1  박길동   33   국어     여자"
      ]
     },
     "execution_count": 8,
     "metadata": {},
     "output_type": "execute_result"
    }
   ],
   "source": [
    "# 인덱스순서를 변경하려면 -> 인덱스는 우선 DataFrame이 있는 상태에서 변경해야 한다\n",
    "df = df.reindex(index=[0,2,5,3,1])\n",
    "df"
   ]
  },
  {
   "cell_type": "code",
   "execution_count": 9,
   "metadata": {},
   "outputs": [
    {
     "data": {
      "text/html": [
       "<div>\n",
       "<style scoped>\n",
       "    .dataframe tbody tr th:only-of-type {\n",
       "        vertical-align: middle;\n",
       "    }\n",
       "\n",
       "    .dataframe tbody tr th {\n",
       "        vertical-align: top;\n",
       "    }\n",
       "\n",
       "    .dataframe thead th {\n",
       "        text-align: right;\n",
       "    }\n",
       "</style>\n",
       "<table border=\"1\" class=\"dataframe\">\n",
       "  <thead>\n",
       "    <tr style=\"text-align: right;\">\n",
       "      <th></th>\n",
       "      <th>name</th>\n",
       "      <th>age</th>\n",
       "      <th>dept</th>\n",
       "      <th>gender</th>\n",
       "      <th>age+10</th>\n",
       "    </tr>\n",
       "  </thead>\n",
       "  <tbody>\n",
       "    <tr>\n",
       "      <th>0</th>\n",
       "      <td>홍길동</td>\n",
       "      <td>22</td>\n",
       "      <td>컴공</td>\n",
       "      <td>여자</td>\n",
       "      <td>32</td>\n",
       "    </tr>\n",
       "    <tr>\n",
       "      <th>2</th>\n",
       "      <td>김길동</td>\n",
       "      <td>44</td>\n",
       "      <td>산업</td>\n",
       "      <td>남자</td>\n",
       "      <td>54</td>\n",
       "    </tr>\n",
       "    <tr>\n",
       "      <th>5</th>\n",
       "      <td>장길동</td>\n",
       "      <td>55</td>\n",
       "      <td>기계</td>\n",
       "      <td>남자</td>\n",
       "      <td>65</td>\n",
       "    </tr>\n",
       "    <tr>\n",
       "      <th>3</th>\n",
       "      <td>이길동</td>\n",
       "      <td>55</td>\n",
       "      <td>기계</td>\n",
       "      <td>남자</td>\n",
       "      <td>65</td>\n",
       "    </tr>\n",
       "    <tr>\n",
       "      <th>1</th>\n",
       "      <td>박길동</td>\n",
       "      <td>33</td>\n",
       "      <td>국어</td>\n",
       "      <td>여자</td>\n",
       "      <td>43</td>\n",
       "    </tr>\n",
       "  </tbody>\n",
       "</table>\n",
       "</div>"
      ],
      "text/plain": [
       "  name  age dept gender  age+10\n",
       "0  홍길동   22   컴공     여자      32\n",
       "2  김길동   44   산업     남자      54\n",
       "5  장길동   55   기계     남자      65\n",
       "3  이길동   55   기계     남자      65\n",
       "1  박길동   33   국어     여자      43"
      ]
     },
     "execution_count": 9,
     "metadata": {},
     "output_type": "execute_result"
    }
   ],
   "source": [
    "# 컬럼연산\n",
    "df['age+10'] = df['age'] + 10\n",
    "df"
   ]
  },
  {
   "cell_type": "code",
   "execution_count": 10,
   "metadata": {},
   "outputs": [
    {
     "data": {
      "text/html": [
       "<div>\n",
       "<style scoped>\n",
       "    .dataframe tbody tr th:only-of-type {\n",
       "        vertical-align: middle;\n",
       "    }\n",
       "\n",
       "    .dataframe tbody tr th {\n",
       "        vertical-align: top;\n",
       "    }\n",
       "\n",
       "    .dataframe thead th {\n",
       "        text-align: right;\n",
       "    }\n",
       "</style>\n",
       "<table border=\"1\" class=\"dataframe\">\n",
       "  <thead>\n",
       "    <tr style=\"text-align: right;\">\n",
       "      <th></th>\n",
       "      <th>name</th>\n",
       "      <th>age</th>\n",
       "      <th>dept</th>\n",
       "      <th>gender</th>\n",
       "      <th>age+10</th>\n",
       "      <th>(5, dept)</th>\n",
       "    </tr>\n",
       "  </thead>\n",
       "  <tbody>\n",
       "    <tr>\n",
       "      <th>0</th>\n",
       "      <td>홍길동</td>\n",
       "      <td>22</td>\n",
       "      <td>컴공</td>\n",
       "      <td>여자</td>\n",
       "      <td>32</td>\n",
       "      <td>수학</td>\n",
       "    </tr>\n",
       "    <tr>\n",
       "      <th>2</th>\n",
       "      <td>김길동</td>\n",
       "      <td>44</td>\n",
       "      <td>산업</td>\n",
       "      <td>남자</td>\n",
       "      <td>54</td>\n",
       "      <td>수학</td>\n",
       "    </tr>\n",
       "    <tr>\n",
       "      <th>5</th>\n",
       "      <td>장길동</td>\n",
       "      <td>55</td>\n",
       "      <td>인문</td>\n",
       "      <td>남자</td>\n",
       "      <td>65</td>\n",
       "      <td>수학</td>\n",
       "    </tr>\n",
       "    <tr>\n",
       "      <th>3</th>\n",
       "      <td>이길동</td>\n",
       "      <td>55</td>\n",
       "      <td>기계</td>\n",
       "      <td>남자</td>\n",
       "      <td>65</td>\n",
       "      <td>수학</td>\n",
       "    </tr>\n",
       "    <tr>\n",
       "      <th>1</th>\n",
       "      <td>박길동</td>\n",
       "      <td>33</td>\n",
       "      <td>국어</td>\n",
       "      <td>여자</td>\n",
       "      <td>43</td>\n",
       "      <td>수학</td>\n",
       "    </tr>\n",
       "  </tbody>\n",
       "</table>\n",
       "</div>"
      ],
      "text/plain": [
       "  name  age dept gender  age+10 (5, dept)\n",
       "0  홍길동   22   컴공     여자      32        수학\n",
       "2  김길동   44   산업     남자      54        수학\n",
       "5  장길동   55   인문     남자      65        수학\n",
       "3  이길동   55   기계     남자      65        수학\n",
       "1  박길동   33   국어     여자      43        수학"
      ]
     },
     "execution_count": 10,
     "metadata": {},
     "output_type": "execute_result"
    }
   ],
   "source": [
    "#  인덱스 5에 'dept'열의 값을 '인문'으로 변경\n",
    "df.loc[5,'dept'] = '인문'\n",
    "df\n",
    "\n",
    "# 아래처럼 하면??? 새로운 컬럼이 되는거야??\n",
    "df[5,'dept']='수학'\n",
    "df"
   ]
  },
  {
   "cell_type": "markdown",
   "metadata": {},
   "source": [
    "###  컬럼 속성 추출"
   ]
  },
  {
   "cell_type": "code",
   "execution_count": 11,
   "metadata": {},
   "outputs": [
    {
     "data": {
      "text/plain": [
       "0    홍길동\n",
       "2    김길동\n",
       "5    장길동\n",
       "3    이길동\n",
       "1    박길동\n",
       "Name: name, dtype: object"
      ]
     },
     "execution_count": 11,
     "metadata": {},
     "output_type": "execute_result"
    }
   ],
   "source": [
    "# 컬럼 속성 추출\n",
    "df['dept']\n",
    "df.dept\n",
    "\n",
    "df['name']\n",
    "df.name\n"
   ]
  },
  {
   "cell_type": "code",
   "execution_count": 12,
   "metadata": {},
   "outputs": [
    {
     "data": {
      "text/plain": [
       "'산업'"
      ]
     },
     "execution_count": 12,
     "metadata": {},
     "output_type": "execute_result"
    }
   ],
   "source": [
    "# 특정 컬럼의 특정행 -> 즉 특정셀 ( 2번 인덱스의 dept 컬럼값은? )\n",
    "df.dept[2]\n",
    "df['dept'][2]"
   ]
  },
  {
   "cell_type": "code",
   "execution_count": 13,
   "metadata": {
    "scrolled": false
   },
   "outputs": [
    {
     "data": {
      "text/html": [
       "<div>\n",
       "<style scoped>\n",
       "    .dataframe tbody tr th:only-of-type {\n",
       "        vertical-align: middle;\n",
       "    }\n",
       "\n",
       "    .dataframe tbody tr th {\n",
       "        vertical-align: top;\n",
       "    }\n",
       "\n",
       "    .dataframe thead th {\n",
       "        text-align: right;\n",
       "    }\n",
       "</style>\n",
       "<table border=\"1\" class=\"dataframe\">\n",
       "  <thead>\n",
       "    <tr style=\"text-align: right;\">\n",
       "      <th></th>\n",
       "      <th>name</th>\n",
       "      <th>age</th>\n",
       "      <th>dept</th>\n",
       "      <th>gender</th>\n",
       "      <th>age+10</th>\n",
       "      <th>(5, dept)</th>\n",
       "    </tr>\n",
       "  </thead>\n",
       "  <tbody>\n",
       "    <tr>\n",
       "      <th>2</th>\n",
       "      <td>김길동</td>\n",
       "      <td>44</td>\n",
       "      <td>산업</td>\n",
       "      <td>남자</td>\n",
       "      <td>54</td>\n",
       "      <td>수학</td>\n",
       "    </tr>\n",
       "    <tr>\n",
       "      <th>5</th>\n",
       "      <td>장길동</td>\n",
       "      <td>55</td>\n",
       "      <td>인문</td>\n",
       "      <td>남자</td>\n",
       "      <td>65</td>\n",
       "      <td>수학</td>\n",
       "    </tr>\n",
       "    <tr>\n",
       "      <th>3</th>\n",
       "      <td>이길동</td>\n",
       "      <td>55</td>\n",
       "      <td>기계</td>\n",
       "      <td>남자</td>\n",
       "      <td>65</td>\n",
       "      <td>수학</td>\n",
       "    </tr>\n",
       "    <tr>\n",
       "      <th>1</th>\n",
       "      <td>박길동</td>\n",
       "      <td>33</td>\n",
       "      <td>국어</td>\n",
       "      <td>여자</td>\n",
       "      <td>43</td>\n",
       "      <td>수학</td>\n",
       "    </tr>\n",
       "  </tbody>\n",
       "</table>\n",
       "</div>"
      ],
      "text/plain": [
       "  name  age dept gender  age+10 (5, dept)\n",
       "2  김길동   44   산업     남자      54        수학\n",
       "5  장길동   55   인문     남자      65        수학\n",
       "3  이길동   55   기계     남자      65        수학\n",
       "1  박길동   33   국어     여자      43        수학"
      ]
     },
     "execution_count": 13,
     "metadata": {},
     "output_type": "execute_result"
    }
   ],
   "source": [
    "# 30세 이상의 레코드 겁색\n",
    "# df['age']>30\n",
    "df[df['age']>30]"
   ]
  },
  {
   "cell_type": "code",
   "execution_count": 15,
   "metadata": {},
   "outputs": [
    {
     "name": "stdout",
     "output_type": "stream",
     "text": [
      "  name  age dept (2, name)\n",
      "0  홍길동   22   컴공       맹길동\n",
      "1  박길동   33   국어       맹길동\n",
      "2  맹길동   44   산업       맹길동\n"
     ]
    },
    {
     "data": {
      "text/html": [
       "<div>\n",
       "<style scoped>\n",
       "    .dataframe tbody tr th:only-of-type {\n",
       "        vertical-align: middle;\n",
       "    }\n",
       "\n",
       "    .dataframe tbody tr th {\n",
       "        vertical-align: top;\n",
       "    }\n",
       "\n",
       "    .dataframe thead th {\n",
       "        text-align: right;\n",
       "    }\n",
       "</style>\n",
       "<table border=\"1\" class=\"dataframe\">\n",
       "  <thead>\n",
       "    <tr style=\"text-align: right;\">\n",
       "      <th></th>\n",
       "      <th>name</th>\n",
       "      <th>age</th>\n",
       "      <th>dept</th>\n",
       "      <th>(2, name)</th>\n",
       "    </tr>\n",
       "  </thead>\n",
       "  <tbody>\n",
       "    <tr>\n",
       "      <th>0</th>\n",
       "      <td>홍길동</td>\n",
       "      <td>22</td>\n",
       "      <td>컴공</td>\n",
       "      <td>맹길동</td>\n",
       "    </tr>\n",
       "    <tr>\n",
       "      <th>1</th>\n",
       "      <td>맹길동</td>\n",
       "      <td>33</td>\n",
       "      <td>국어</td>\n",
       "      <td>맹길동</td>\n",
       "    </tr>\n",
       "    <tr>\n",
       "      <th>2</th>\n",
       "      <td>맹길동</td>\n",
       "      <td>44</td>\n",
       "      <td>산업</td>\n",
       "      <td>맹길동</td>\n",
       "    </tr>\n",
       "  </tbody>\n",
       "</table>\n",
       "</div>"
      ],
      "text/plain": [
       "  name  age dept (2, name)\n",
       "0  홍길동   22   컴공       맹길동\n",
       "1  맹길동   33   국어       맹길동\n",
       "2  맹길동   44   산업       맹길동"
      ]
     },
     "execution_count": 15,
     "metadata": {},
     "output_type": "execute_result"
    }
   ],
   "source": [
    "# 인덱스 1의 name 값을 '맹길동'로 변경하려면?\n",
    "print(df)\n",
    "\n",
    "# df['name'][1] = '박가'\n",
    "# print(df)\n",
    "\n",
    "# df.name[1] ='맹가'\n",
    "# print(df)\n",
    "\n",
    "# Warning - df['name']이라고 추출했을 때 원본이 아닌 복사인가??\n",
    "\n",
    "# df[1,'name'] ='맹길동'  # 아님 (2, name) 컬럼이 생성됨\n",
    "df.loc[1,'name'] = '맹길동'\n",
    "df"
   ]
  },
  {
   "cell_type": "markdown",
   "metadata": {},
   "source": [
    "## 데이타 필터링\n",
    "\n",
    "- 넘파이와 유사한 부분으로 더우 혼동하기 쉽다\n",
    "\n",
    "- 판다스의 DataFrame와 Series에서도 다른 부분이 있어서 주의해야 한다\n",
    "\n",
    "\n",
    "1. loc[] : 인덱스와 명칭으로 추출\n",
    "\n",
    "2. iloc[] : 인덱스로 추출\n",
    "\n",
    "3. ix[] : 명치 기반 인덱싱과 위치 기반 인덱싱 모두 사용 (*  그러나 곧 사라질 예정 )\n",
    "\n",
    "\n",
    "위 3 연산자는 노련한 개발자들도 혼동하기에,\n",
    "일반적으로 하나만 선택해서 사용하는 것을 권장한단다\n"
   ]
  },
  {
   "cell_type": "code",
   "execution_count": 3,
   "metadata": {},
   "outputs": [
    {
     "name": "stdout",
     "output_type": "stream",
     "text": [
      "name    박길동\n",
      "age      33\n",
      "dept     국어\n",
      "Name: 1, dtype: object\n",
      "--------------------------------------------------\n",
      "name    박길동\n",
      "age      33\n",
      "dept     국어\n",
      "Name: 1, dtype: object\n",
      "국어\n",
      "국어\n"
     ]
    }
   ],
   "source": [
    "# 인덱스 1의 데이타 추출 -> loc와 iloc의 결과가 다름(정리필요)\n",
    "print(df.loc[1])  #  인덱스 1행의 데이타 추출\n",
    "print('-'*50)\n",
    "print(df.iloc[1]) # 인덱스 1번째(0번째부터) 데이타 추출\n",
    "\n",
    "# print(df)\n",
    "\n",
    "# df.loc[1,2] #  -> 에러\n",
    "print(df.iloc[1,2])\n",
    "# print(df.loc[1,'dept'])"
   ]
  },
  {
   "cell_type": "code",
   "execution_count": 7,
   "metadata": {},
   "outputs": [
    {
     "data": {
      "text/html": [
       "<div>\n",
       "<style scoped>\n",
       "    .dataframe tbody tr th:only-of-type {\n",
       "        vertical-align: middle;\n",
       "    }\n",
       "\n",
       "    .dataframe tbody tr th {\n",
       "        vertical-align: top;\n",
       "    }\n",
       "\n",
       "    .dataframe thead th {\n",
       "        text-align: right;\n",
       "    }\n",
       "</style>\n",
       "<table border=\"1\" class=\"dataframe\">\n",
       "  <thead>\n",
       "    <tr style=\"text-align: right;\">\n",
       "      <th></th>\n",
       "      <th>name</th>\n",
       "      <th>age</th>\n",
       "      <th>dept</th>\n",
       "    </tr>\n",
       "  </thead>\n",
       "  <tbody>\n",
       "    <tr>\n",
       "      <th>일</th>\n",
       "      <td>홍길동</td>\n",
       "      <td>22</td>\n",
       "      <td>컴공</td>\n",
       "    </tr>\n",
       "    <tr>\n",
       "      <th>삼</th>\n",
       "      <td>김길동</td>\n",
       "      <td>44</td>\n",
       "      <td>산업</td>\n",
       "    </tr>\n",
       "  </tbody>\n",
       "</table>\n",
       "</div>"
      ],
      "text/plain": [
       "  name  age dept\n",
       "일  홍길동   22   컴공\n",
       "삼  김길동   44   산업"
      ]
     },
     "execution_count": 7,
     "metadata": {},
     "output_type": "execute_result"
    }
   ],
   "source": [
    "# 명칭기반 인덱스 : 문자열이 인덱스인 경우\n",
    "\n",
    "df3\n",
    "\n",
    "# df3.loc['일']\n",
    "# df3.iloc['일'] -> 에러"
   ]
  },
  {
   "cell_type": "code",
   "execution_count": 9,
   "metadata": {},
   "outputs": [
    {
     "data": {
      "text/html": [
       "<div>\n",
       "<style scoped>\n",
       "    .dataframe tbody tr th:only-of-type {\n",
       "        vertical-align: middle;\n",
       "    }\n",
       "\n",
       "    .dataframe tbody tr th {\n",
       "        vertical-align: top;\n",
       "    }\n",
       "\n",
       "    .dataframe thead th {\n",
       "        text-align: right;\n",
       "    }\n",
       "</style>\n",
       "<table border=\"1\" class=\"dataframe\">\n",
       "  <thead>\n",
       "    <tr style=\"text-align: right;\">\n",
       "      <th></th>\n",
       "      <th>name</th>\n",
       "      <th>age</th>\n",
       "    </tr>\n",
       "  </thead>\n",
       "  <tbody>\n",
       "    <tr>\n",
       "      <th>일</th>\n",
       "      <td>홍길동</td>\n",
       "      <td>22</td>\n",
       "    </tr>\n",
       "    <tr>\n",
       "      <th>이</th>\n",
       "      <td>박길동</td>\n",
       "      <td>33</td>\n",
       "    </tr>\n",
       "    <tr>\n",
       "      <th>삼</th>\n",
       "      <td>김길동</td>\n",
       "      <td>44</td>\n",
       "    </tr>\n",
       "  </tbody>\n",
       "</table>\n",
       "</div>"
      ],
      "text/plain": [
       "  name  age\n",
       "일  홍길동   22\n",
       "이  박길동   33\n",
       "삼  김길동   44"
      ]
     },
     "execution_count": 9,
     "metadata": {},
     "output_type": "execute_result"
    }
   ],
   "source": [
    "# 여러 행 추출 - 일과 삼 데이타 추출\n",
    "df3.loc[['일','삼']]\n",
    "# 여러 열 추출 - name과 age 데이타 추출\n",
    "df3[['name','age']]"
   ]
  },
  {
   "cell_type": "code",
   "execution_count": 19,
   "metadata": {},
   "outputs": [
    {
     "data": {
      "text/html": [
       "<div>\n",
       "<style scoped>\n",
       "    .dataframe tbody tr th:only-of-type {\n",
       "        vertical-align: middle;\n",
       "    }\n",
       "\n",
       "    .dataframe tbody tr th {\n",
       "        vertical-align: top;\n",
       "    }\n",
       "\n",
       "    .dataframe thead th {\n",
       "        text-align: right;\n",
       "    }\n",
       "</style>\n",
       "<table border=\"1\" class=\"dataframe\">\n",
       "  <thead>\n",
       "    <tr style=\"text-align: right;\">\n",
       "      <th></th>\n",
       "      <th>name</th>\n",
       "      <th>age</th>\n",
       "      <th>dept</th>\n",
       "      <th>(2, name)</th>\n",
       "    </tr>\n",
       "  </thead>\n",
       "  <tbody>\n",
       "    <tr>\n",
       "      <th>0</th>\n",
       "      <td>홍길동</td>\n",
       "      <td>22</td>\n",
       "      <td>컴공</td>\n",
       "      <td>맹길동</td>\n",
       "    </tr>\n",
       "    <tr>\n",
       "      <th>1</th>\n",
       "      <td>맹길동</td>\n",
       "      <td>33</td>\n",
       "      <td>국어</td>\n",
       "      <td>맹길동</td>\n",
       "    </tr>\n",
       "    <tr>\n",
       "      <th>2</th>\n",
       "      <td>맹길동</td>\n",
       "      <td>44</td>\n",
       "      <td>산업</td>\n",
       "      <td>맹길동</td>\n",
       "    </tr>\n",
       "  </tbody>\n",
       "</table>\n",
       "</div>"
      ],
      "text/plain": [
       "  name  age dept (2, name)\n",
       "0  홍길동   22   컴공       맹길동\n",
       "1  맹길동   33   국어       맹길동\n",
       "2  맹길동   44   산업       맹길동"
      ]
     },
     "execution_count": 19,
     "metadata": {},
     "output_type": "execute_result"
    }
   ],
   "source": [
    "# 특정 컬럼으로 인덱스를 지정\n",
    "df.set_index('name')\n",
    "df.index   # 변동이 없음\n",
    "df         # 변화가 없음 ( 원본 적용이 안됨 )\n",
    "\n",
    "# 원본 데이타프레임에 적용해야 한다\n",
    "# 다시 실행하려면 df 데이타프레임을 다시 생성 후\n",
    "df2 = df.set_index('name')\n",
    "df2.index\n",
    "df2.loc['홍길동']\n",
    "# df2.iloc['홍길동'] -> 에러\n",
    "\n",
    "# df.set_index('name', inplace=True) # inplcace=True 원본적용\n",
    "# df.index\n",
    "# df.loc['홍길동']"
   ]
  },
  {
   "cell_type": "markdown",
   "metadata": {},
   "source": [
    "### 정렬과 T\n",
    "\n",
    "+ sort_value() 정리"
   ]
  },
  {
   "cell_type": "code",
   "execution_count": 18,
   "metadata": {},
   "outputs": [
    {
     "data": {
      "text/html": [
       "<div>\n",
       "<style scoped>\n",
       "    .dataframe tbody tr th:only-of-type {\n",
       "        vertical-align: middle;\n",
       "    }\n",
       "\n",
       "    .dataframe tbody tr th {\n",
       "        vertical-align: top;\n",
       "    }\n",
       "\n",
       "    .dataframe thead th {\n",
       "        text-align: right;\n",
       "    }\n",
       "</style>\n",
       "<table border=\"1\" class=\"dataframe\">\n",
       "  <thead>\n",
       "    <tr style=\"text-align: right;\">\n",
       "      <th></th>\n",
       "      <th>name</th>\n",
       "      <th>age</th>\n",
       "      <th>dept</th>\n",
       "      <th>gender</th>\n",
       "      <th>age+10</th>\n",
       "      <th>(5, dept)</th>\n",
       "    </tr>\n",
       "  </thead>\n",
       "  <tbody>\n",
       "    <tr>\n",
       "      <th>5</th>\n",
       "      <td>장길동</td>\n",
       "      <td>55</td>\n",
       "      <td>인문</td>\n",
       "      <td>남자</td>\n",
       "      <td>65</td>\n",
       "      <td>수학</td>\n",
       "    </tr>\n",
       "    <tr>\n",
       "      <th>3</th>\n",
       "      <td>이길동</td>\n",
       "      <td>55</td>\n",
       "      <td>기계</td>\n",
       "      <td>남자</td>\n",
       "      <td>65</td>\n",
       "      <td>수학</td>\n",
       "    </tr>\n",
       "    <tr>\n",
       "      <th>2</th>\n",
       "      <td>김길동</td>\n",
       "      <td>44</td>\n",
       "      <td>산업</td>\n",
       "      <td>남자</td>\n",
       "      <td>54</td>\n",
       "      <td>수학</td>\n",
       "    </tr>\n",
       "    <tr>\n",
       "      <th>1</th>\n",
       "      <td>맹가</td>\n",
       "      <td>33</td>\n",
       "      <td>국어</td>\n",
       "      <td>여자</td>\n",
       "      <td>43</td>\n",
       "      <td>수학</td>\n",
       "    </tr>\n",
       "    <tr>\n",
       "      <th>0</th>\n",
       "      <td>홍길동</td>\n",
       "      <td>22</td>\n",
       "      <td>컴공</td>\n",
       "      <td>여자</td>\n",
       "      <td>32</td>\n",
       "      <td>수학</td>\n",
       "    </tr>\n",
       "  </tbody>\n",
       "</table>\n",
       "</div>"
      ],
      "text/plain": [
       "  name  age dept gender  age+10 (5, dept)\n",
       "5  장길동   55   인문     남자      65        수학\n",
       "3  이길동   55   기계     남자      65        수학\n",
       "2  김길동   44   산업     남자      54        수학\n",
       "1   맹가   33   국어     여자      43        수학\n",
       "0  홍길동   22   컴공     여자      32        수학"
      ]
     },
     "execution_count": 18,
     "metadata": {},
     "output_type": "execute_result"
    }
   ],
   "source": [
    "# 나이를 오름차순으로\n",
    "# df.sort_index(ascending=0)   # 인덱스 정렬 기본값이 ascending=1\n",
    "df.sort_values('age', ascending=0) # 값으로 정렬\n",
    "df.sort_values('age', ascending=False) # 권장\n",
    "df   # 원본은 안 바뀐다\n",
    "\n",
    "df_sorted = df.sort_values('age', ascending=False)\n",
    "df_sorted        # 권장\n",
    "\n",
    "df.sort_values('age', ascending=False, inplace=True)\n",
    "df               # 전문가들은 원본이 변경하지 않는 것을 권장"
   ]
  },
  {
   "cell_type": "code",
   "execution_count": 19,
   "metadata": {},
   "outputs": [
    {
     "data": {
      "text/html": [
       "<div>\n",
       "<style scoped>\n",
       "    .dataframe tbody tr th:only-of-type {\n",
       "        vertical-align: middle;\n",
       "    }\n",
       "\n",
       "    .dataframe tbody tr th {\n",
       "        vertical-align: top;\n",
       "    }\n",
       "\n",
       "    .dataframe thead th {\n",
       "        text-align: right;\n",
       "    }\n",
       "</style>\n",
       "<table border=\"1\" class=\"dataframe\">\n",
       "  <thead>\n",
       "    <tr style=\"text-align: right;\">\n",
       "      <th></th>\n",
       "      <th>5</th>\n",
       "      <th>3</th>\n",
       "      <th>2</th>\n",
       "      <th>1</th>\n",
       "      <th>0</th>\n",
       "    </tr>\n",
       "  </thead>\n",
       "  <tbody>\n",
       "    <tr>\n",
       "      <th>name</th>\n",
       "      <td>장길동</td>\n",
       "      <td>이길동</td>\n",
       "      <td>김길동</td>\n",
       "      <td>맹가</td>\n",
       "      <td>홍길동</td>\n",
       "    </tr>\n",
       "    <tr>\n",
       "      <th>age</th>\n",
       "      <td>55</td>\n",
       "      <td>55</td>\n",
       "      <td>44</td>\n",
       "      <td>33</td>\n",
       "      <td>22</td>\n",
       "    </tr>\n",
       "    <tr>\n",
       "      <th>dept</th>\n",
       "      <td>인문</td>\n",
       "      <td>기계</td>\n",
       "      <td>산업</td>\n",
       "      <td>국어</td>\n",
       "      <td>컴공</td>\n",
       "    </tr>\n",
       "    <tr>\n",
       "      <th>gender</th>\n",
       "      <td>남자</td>\n",
       "      <td>남자</td>\n",
       "      <td>남자</td>\n",
       "      <td>여자</td>\n",
       "      <td>여자</td>\n",
       "    </tr>\n",
       "    <tr>\n",
       "      <th>age+10</th>\n",
       "      <td>65</td>\n",
       "      <td>65</td>\n",
       "      <td>54</td>\n",
       "      <td>43</td>\n",
       "      <td>32</td>\n",
       "    </tr>\n",
       "    <tr>\n",
       "      <th>(5, dept)</th>\n",
       "      <td>수학</td>\n",
       "      <td>수학</td>\n",
       "      <td>수학</td>\n",
       "      <td>수학</td>\n",
       "      <td>수학</td>\n",
       "    </tr>\n",
       "  </tbody>\n",
       "</table>\n",
       "</div>"
      ],
      "text/plain": [
       "             5    3    2   1    0\n",
       "name       장길동  이길동  김길동  맹가  홍길동\n",
       "age         55   55   44  33   22\n",
       "dept        인문   기계   산업  국어   컴공\n",
       "gender      남자   남자   남자  여자   여자\n",
       "age+10      65   65   54  43   32\n",
       "(5, dept)   수학   수학   수학  수학   수학"
      ]
     },
     "execution_count": 19,
     "metadata": {},
     "output_type": "execute_result"
    }
   ],
   "source": [
    "df.T"
   ]
  },
  {
   "cell_type": "markdown",
   "metadata": {},
   "source": [
    "### 정보확인\n",
    "\n",
    "+ info()\n",
    "+ describe()"
   ]
  },
  {
   "cell_type": "code",
   "execution_count": 20,
   "metadata": {},
   "outputs": [
    {
     "name": "stdout",
     "output_type": "stream",
     "text": [
      "<class 'pandas.core.frame.DataFrame'>\n",
      "Int64Index: 5 entries, 5 to 0\n",
      "Data columns (total 6 columns):\n",
      "name         5 non-null object\n",
      "age          5 non-null int64\n",
      "dept         5 non-null object\n",
      "gender       5 non-null object\n",
      "age+10       5 non-null int64\n",
      "(5, dept)    5 non-null object\n",
      "dtypes: int64(2), object(4)\n",
      "memory usage: 440.0+ bytes\n"
     ]
    }
   ],
   "source": [
    "# 총 데이터 건수와 데이타 타입등 정보 확인\n",
    "df.info()"
   ]
  },
  {
   "cell_type": "code",
   "execution_count": 21,
   "metadata": {},
   "outputs": [
    {
     "data": {
      "text/html": [
       "<div>\n",
       "<style scoped>\n",
       "    .dataframe tbody tr th:only-of-type {\n",
       "        vertical-align: middle;\n",
       "    }\n",
       "\n",
       "    .dataframe tbody tr th {\n",
       "        vertical-align: top;\n",
       "    }\n",
       "\n",
       "    .dataframe thead th {\n",
       "        text-align: right;\n",
       "    }\n",
       "</style>\n",
       "<table border=\"1\" class=\"dataframe\">\n",
       "  <thead>\n",
       "    <tr style=\"text-align: right;\">\n",
       "      <th></th>\n",
       "      <th>age</th>\n",
       "      <th>age+10</th>\n",
       "    </tr>\n",
       "  </thead>\n",
       "  <tbody>\n",
       "    <tr>\n",
       "      <th>count</th>\n",
       "      <td>5.000000</td>\n",
       "      <td>5.000000</td>\n",
       "    </tr>\n",
       "    <tr>\n",
       "      <th>mean</th>\n",
       "      <td>41.800000</td>\n",
       "      <td>51.800000</td>\n",
       "    </tr>\n",
       "    <tr>\n",
       "      <th>std</th>\n",
       "      <td>14.342245</td>\n",
       "      <td>14.342245</td>\n",
       "    </tr>\n",
       "    <tr>\n",
       "      <th>min</th>\n",
       "      <td>22.000000</td>\n",
       "      <td>32.000000</td>\n",
       "    </tr>\n",
       "    <tr>\n",
       "      <th>25%</th>\n",
       "      <td>33.000000</td>\n",
       "      <td>43.000000</td>\n",
       "    </tr>\n",
       "    <tr>\n",
       "      <th>50%</th>\n",
       "      <td>44.000000</td>\n",
       "      <td>54.000000</td>\n",
       "    </tr>\n",
       "    <tr>\n",
       "      <th>75%</th>\n",
       "      <td>55.000000</td>\n",
       "      <td>65.000000</td>\n",
       "    </tr>\n",
       "    <tr>\n",
       "      <th>max</th>\n",
       "      <td>55.000000</td>\n",
       "      <td>65.000000</td>\n",
       "    </tr>\n",
       "  </tbody>\n",
       "</table>\n",
       "</div>"
      ],
      "text/plain": [
       "             age     age+10\n",
       "count   5.000000   5.000000\n",
       "mean   41.800000  51.800000\n",
       "std    14.342245  14.342245\n",
       "min    22.000000  32.000000\n",
       "25%    33.000000  43.000000\n",
       "50%    44.000000  54.000000\n",
       "75%    55.000000  65.000000\n",
       "max    55.000000  65.000000"
      ]
     },
     "execution_count": 21,
     "metadata": {},
     "output_type": "execute_result"
    }
   ],
   "source": [
    "# 기본통계량 구하기 ( 총개수, 평균, 표준편차, 최소값, 4분위수 등)\n",
    "df.describe()\n",
    "\n",
    "# 숫자형에 한에 기본통계량이 확인"
   ]
  },
  {
   "cell_type": "code",
   "execution_count": null,
   "metadata": {},
   "outputs": [],
   "source": []
  }
 ],
 "metadata": {
  "kernelspec": {
   "display_name": "Python 3",
   "language": "python",
   "name": "python3"
  },
  "language_info": {
   "codemirror_mode": {
    "name": "ipython",
    "version": 3
   },
   "file_extension": ".py",
   "mimetype": "text/x-python",
   "name": "python",
   "nbconvert_exporter": "python",
   "pygments_lexer": "ipython3",
   "version": "3.8.8"
  }
 },
 "nbformat": 4,
 "nbformat_minor": 2
}
