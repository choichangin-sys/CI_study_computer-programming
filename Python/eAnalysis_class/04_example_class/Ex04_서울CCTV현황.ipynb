{
 "cells": [
  {
   "cell_type": "markdown",
   "metadata": {},
   "source": [
    "[예제] 파이썬의 데이타 주무르기\n",
    "\n",
    "\n",
    "## 서울시 자치구 인구대비 CCTV 현황\n",
    "\n",
    "1. 서울시 자치구 연도별 CCTV 현황\n",
    "\n",
    "    서울열린데이타 : https://data.seoul.go.kr 에서 cctv 검색하여 csv 파일 다운로드\n",
    "    \n",
    "\n",
    "2. 서울시 주민등록인구 (구별) 통계\n",
    "\n",
    "    서울열린데이타 : https://data.seoul.go.kr > 인구 > XLS 파일 다운로드"
   ]
  },
  {
   "cell_type": "markdown",
   "metadata": {},
   "source": [
    "## 1. 서울시 자치구 연도별 CCTV 현황"
   ]
  },
  {
   "cell_type": "code",
   "execution_count": 35,
   "metadata": {
    "scrolled": true
   },
   "outputs": [
    {
     "data": {
      "text/html": [
       "<div>\n",
       "<style scoped>\n",
       "    .dataframe tbody tr th:only-of-type {\n",
       "        vertical-align: middle;\n",
       "    }\n",
       "\n",
       "    .dataframe tbody tr th {\n",
       "        vertical-align: top;\n",
       "    }\n",
       "\n",
       "    .dataframe thead th {\n",
       "        text-align: right;\n",
       "    }\n",
       "</style>\n",
       "<table border=\"1\" class=\"dataframe\">\n",
       "  <thead>\n",
       "    <tr style=\"text-align: right;\">\n",
       "      <th></th>\n",
       "      <th>기관명</th>\n",
       "      <th>소계</th>\n",
       "      <th>2013년도 이전</th>\n",
       "      <th>2014년</th>\n",
       "      <th>2015년</th>\n",
       "      <th>2016년</th>\n",
       "      <th>3년 동안의 증가율</th>\n",
       "    </tr>\n",
       "  </thead>\n",
       "  <tbody>\n",
       "    <tr>\n",
       "      <th>0</th>\n",
       "      <td>강남구</td>\n",
       "      <td>3238</td>\n",
       "      <td>1292</td>\n",
       "      <td>430</td>\n",
       "      <td>584</td>\n",
       "      <td>932</td>\n",
       "      <td>150.619195</td>\n",
       "    </tr>\n",
       "    <tr>\n",
       "      <th>1</th>\n",
       "      <td>강동구</td>\n",
       "      <td>1010</td>\n",
       "      <td>379</td>\n",
       "      <td>99</td>\n",
       "      <td>155</td>\n",
       "      <td>377</td>\n",
       "      <td>166.490765</td>\n",
       "    </tr>\n",
       "    <tr>\n",
       "      <th>2</th>\n",
       "      <td>강북구</td>\n",
       "      <td>831</td>\n",
       "      <td>369</td>\n",
       "      <td>120</td>\n",
       "      <td>138</td>\n",
       "      <td>204</td>\n",
       "      <td>125.203252</td>\n",
       "    </tr>\n",
       "    <tr>\n",
       "      <th>3</th>\n",
       "      <td>강서구</td>\n",
       "      <td>911</td>\n",
       "      <td>388</td>\n",
       "      <td>258</td>\n",
       "      <td>184</td>\n",
       "      <td>81</td>\n",
       "      <td>134.793814</td>\n",
       "    </tr>\n",
       "    <tr>\n",
       "      <th>4</th>\n",
       "      <td>관악구</td>\n",
       "      <td>2109</td>\n",
       "      <td>846</td>\n",
       "      <td>260</td>\n",
       "      <td>390</td>\n",
       "      <td>613</td>\n",
       "      <td>149.290780</td>\n",
       "    </tr>\n",
       "  </tbody>\n",
       "</table>\n",
       "</div>"
      ],
      "text/plain": [
       "   기관명    소계  2013년도 이전  2014년  2015년  2016년  3년 동안의 증가율\n",
       "0  강남구  3238       1292    430    584    932  150.619195\n",
       "1  강동구  1010        379     99    155    377  166.490765\n",
       "2  강북구   831        369    120    138    204  125.203252\n",
       "3  강서구   911        388    258    184     81  134.793814\n",
       "4  관악구  2109        846    260    390    613  149.290780"
      ]
     },
     "execution_count": 35,
     "metadata": {},
     "output_type": "execute_result"
    }
   ],
   "source": [
    "# 1. 데이타 살펴보기\n",
    "\n",
    "import pandas as pd\n",
    "\n",
    "\"\"\" 1. 서울시 자치구 연도별 CCTV 현황 \"\"\"\n",
    "cctvSeoul = pd.read_csv('./data/cctv_in_seoul.csv',encoding='utf-8')\n",
    "\n",
    "# (1) CCTV가 많은 순으로 정렬하여 상위 5위 \n",
    "cctvSeoul.head(5)\n",
    "\n",
    "\n",
    "# (2) 2014~2016년 3년간 CCTV 증가율을 추가\n",
    "#     3년동안의 증가율 = ( 2014년 + 2015년 + 2016년 ) / 2013년도 이전 * 100\n",
    "#     3년간 증가율 높은 순으로 출력\n",
    "cctvSeoul['3년 동안의 증가율'] = ((cctvSeoul['2014년'] + cctvSeoul['2015년'] + cctvSeoul['2016년']) / cctvSeoul['2013년도 이전']) * 100\n",
    "cctvSeoul.head(5)"
   ]
  },
  {
   "cell_type": "markdown",
   "metadata": {},
   "source": [
    "## 2. 서울시 주민등록인구 (구별) 통계\n",
    "\n",
    "[ 파일읽기 ]  \n",
    "\n",
    "popsSeoul = pd.read_excel('./dataset/pops_in_seoul.xls')\n",
    "\n",
    "수정하고 데이타 정리\n",
    "\n",
    "---\n",
    "[ 출력결과 ]  popsSeoul.head(5)\n",
    "\n",
    "<img src='images/그림1.PNG' width='80%' height='100'>"
   ]
  },
  {
   "cell_type": "code",
   "execution_count": 44,
   "metadata": {},
   "outputs": [
    {
     "data": {
      "text/html": [
       "<div>\n",
       "<style scoped>\n",
       "    .dataframe tbody tr th:only-of-type {\n",
       "        vertical-align: middle;\n",
       "    }\n",
       "\n",
       "    .dataframe tbody tr th {\n",
       "        vertical-align: top;\n",
       "    }\n",
       "\n",
       "    .dataframe thead th {\n",
       "        text-align: right;\n",
       "    }\n",
       "</style>\n",
       "<table border=\"1\" class=\"dataframe\">\n",
       "  <thead>\n",
       "    <tr style=\"text-align: right;\">\n",
       "      <th></th>\n",
       "      <th>구별</th>\n",
       "      <th>인구수</th>\n",
       "      <th>한국인</th>\n",
       "      <th>외국인</th>\n",
       "      <th>고령자</th>\n",
       "      <th>인구.2</th>\n",
       "      <th>인구.3</th>\n",
       "      <th>인구.4</th>\n",
       "      <th>인구.5</th>\n",
       "      <th>인구.6</th>\n",
       "      <th>인구.7</th>\n",
       "      <th>인구.8</th>\n",
       "      <th>세대당인구</th>\n",
       "      <th>65세이상고령자</th>\n",
       "    </tr>\n",
       "  </thead>\n",
       "  <tbody>\n",
       "    <tr>\n",
       "      <th>1</th>\n",
       "      <td>기간</td>\n",
       "      <td>세대계</td>\n",
       "      <td>세대</td>\n",
       "      <td>계</td>\n",
       "      <td>남자</td>\n",
       "      <td>여자</td>\n",
       "      <td>계</td>\n",
       "      <td>남자</td>\n",
       "      <td>여자</td>\n",
       "      <td>계</td>\n",
       "      <td>남자</td>\n",
       "      <td>여자</td>\n",
       "      <td>세대당인구</td>\n",
       "      <td>65세이상고령자</td>\n",
       "    </tr>\n",
       "    <tr>\n",
       "      <th>2</th>\n",
       "      <td>2018</td>\n",
       "      <td>14313475</td>\n",
       "      <td>4263868</td>\n",
       "      <td>10049607</td>\n",
       "      <td>4910849</td>\n",
       "      <td>5138758</td>\n",
       "      <td>9765623</td>\n",
       "      <td>4773899</td>\n",
       "      <td>4991724</td>\n",
       "      <td>283984</td>\n",
       "      <td>136950</td>\n",
       "      <td>147034</td>\n",
       "      <td>2.29</td>\n",
       "      <td>1416131</td>\n",
       "    </tr>\n",
       "    <tr>\n",
       "      <th>3</th>\n",
       "      <td>2018</td>\n",
       "      <td>236761</td>\n",
       "      <td>73735</td>\n",
       "      <td>163026</td>\n",
       "      <td>79156</td>\n",
       "      <td>83870</td>\n",
       "      <td>153065</td>\n",
       "      <td>74825</td>\n",
       "      <td>78240</td>\n",
       "      <td>9961</td>\n",
       "      <td>4331</td>\n",
       "      <td>5630</td>\n",
       "      <td>2.08</td>\n",
       "      <td>26742</td>\n",
       "    </tr>\n",
       "    <tr>\n",
       "      <th>4</th>\n",
       "      <td>2018</td>\n",
       "      <td>197135</td>\n",
       "      <td>61502</td>\n",
       "      <td>135633</td>\n",
       "      <td>66674</td>\n",
       "      <td>68959</td>\n",
       "      <td>125725</td>\n",
       "      <td>61947</td>\n",
       "      <td>63778</td>\n",
       "      <td>9908</td>\n",
       "      <td>4727</td>\n",
       "      <td>5181</td>\n",
       "      <td>2.04</td>\n",
       "      <td>22005</td>\n",
       "    </tr>\n",
       "    <tr>\n",
       "      <th>5</th>\n",
       "      <td>2018</td>\n",
       "      <td>354064</td>\n",
       "      <td>108974</td>\n",
       "      <td>245090</td>\n",
       "      <td>119766</td>\n",
       "      <td>125324</td>\n",
       "      <td>228999</td>\n",
       "      <td>110640</td>\n",
       "      <td>118359</td>\n",
       "      <td>16091</td>\n",
       "      <td>9126</td>\n",
       "      <td>6965</td>\n",
       "      <td>2.1</td>\n",
       "      <td>37640</td>\n",
       "    </tr>\n",
       "  </tbody>\n",
       "</table>\n",
       "</div>"
      ],
      "text/plain": [
       "     구별       인구수      한국인       외국인      고령자     인구.2     인구.3     인구.4  \\\n",
       "1    기간       세대계       세대         계       남자       여자        계       남자   \n",
       "2  2018  14313475  4263868  10049607  4910849  5138758  9765623  4773899   \n",
       "3  2018    236761    73735    163026    79156    83870   153065    74825   \n",
       "4  2018    197135    61502    135633    66674    68959   125725    61947   \n",
       "5  2018    354064   108974    245090   119766   125324   228999   110640   \n",
       "\n",
       "      인구.5    인구.6    인구.7    인구.8  세대당인구  65세이상고령자  \n",
       "1       여자       계      남자      여자  세대당인구  65세이상고령자  \n",
       "2  4991724  283984  136950  147034   2.29   1416131  \n",
       "3    78240    9961    4331    5630   2.08     26742  \n",
       "4    63778    9908    4727    5181   2.04     22005  \n",
       "5   118359   16091    9126    6965    2.1     37640  "
      ]
     },
     "execution_count": 44,
     "metadata": {},
     "output_type": "execute_result"
    }
   ],
   "source": [
    "\"\"\" 2. 서울시 주민등록인구 (구별) 통계 \"\"\"\n",
    "\n",
    "popsSeoul = pd.read_excel('./data/pops_in_seoul.xls') \n",
    "popsSeoul.head(5)  \n",
    "\n",
    "# 컬럼명 변경\n",
    "popsSeoul.rename( columns={ popsSeoul.columns[0]:'구별',\n",
    "                          popsSeoul.columns[1]:'인구수',\n",
    "                          popsSeoul.columns[2]:'한국인',\n",
    "                          popsSeoul.columns[3]:'외국인',\n",
    "                          popsSeoul.columns[4]:'고령자'}, inplace=True)\n",
    "\n",
    "popsSeoul.drop([0], inplace=True)\n",
    "popsSeoul['인구수']= (popsSeoul['한국인'] + popsSeoul['외국인'] ) \n",
    "popsSeoul.head(5)"
   ]
  },
  {
   "cell_type": "markdown",
   "metadata": {},
   "source": [
    "##  3. 두 데이타프레임을 합치고 분석\n",
    "\n",
    "    (1) 두 데이타프레임의 행과 열의 수 확인\n",
    "    \n",
    "        > cctvSeoul.shape\n",
    "        \n",
    "        > popsSeoul.shape\n",
    "\n",
    "    (2) 연결 ( mergy 함수  )\n",
    "        먼저 합치고 필요한 컬럼을 추출하기보단\n",
    "        각각 필요한 컬럼을 추리고 나서 합치는 것을 권장\n",
    "        \n",
    "        \n",
    "---        \n",
    "[ 출력결과 ]\n",
    "\n",
    "<img src='images/그림3.PNG' width='600'>"
   ]
  },
  {
   "cell_type": "code",
   "execution_count": 45,
   "metadata": {},
   "outputs": [
    {
     "ename": "SyntaxError",
     "evalue": "unexpected EOF while parsing (<ipython-input-45-50b32acd2709>, line 3)",
     "output_type": "error",
     "traceback": [
      "\u001b[1;36m  File \u001b[1;32m\"<ipython-input-45-50b32acd2709>\"\u001b[1;36m, line \u001b[1;32m3\u001b[0m\n\u001b[1;33m    folium.Map(location=[37.5502,126.982], zoom_start=11\u001b[0m\n\u001b[1;37m                                                        ^\u001b[0m\n\u001b[1;31mSyntaxError\u001b[0m\u001b[1;31m:\u001b[0m unexpected EOF while parsing\n"
     ]
    }
   ],
   "source": [
    "result3_in = pd.concat([cctvSeoul,popsSeoul],axis=1, join='inner')\n",
    "result3_in.head(5)\n"
   ]
  },
  {
   "cell_type": "markdown",
   "metadata": {},
   "source": [
    "## 4. 분석하기 \n",
    "\n",
    "        외국인비율, 고령자비율, 인구수와 CCTV 수와 상관있나?\n",
    "        "
   ]
  },
  {
   "cell_type": "code",
   "execution_count": 25,
   "metadata": {},
   "outputs": [
    {
     "ename": "NameError",
     "evalue": "name 'result' is not defined",
     "output_type": "error",
     "traceback": [
      "\u001b[1;31m---------------------------------------------------------------------------\u001b[0m",
      "\u001b[1;31mNameError\u001b[0m                                 Traceback (most recent call last)",
      "\u001b[1;32m<ipython-input-25-b1ebf5091086>\u001b[0m in \u001b[0;36m<module>\u001b[1;34m\u001b[0m\n\u001b[0;32m      8\u001b[0m \"\"\"\n\u001b[0;32m      9\u001b[0m \u001b[1;32mimport\u001b[0m \u001b[0mnumpy\u001b[0m \u001b[1;32mas\u001b[0m \u001b[0mnp\u001b[0m\u001b[1;33m\u001b[0m\u001b[1;33m\u001b[0m\u001b[0m\n\u001b[1;32m---> 10\u001b[1;33m \u001b[0mprint\u001b[0m\u001b[1;33m(\u001b[0m \u001b[0mnp\u001b[0m\u001b[1;33m.\u001b[0m\u001b[0mcorrcoef\u001b[0m\u001b[1;33m(\u001b[0m\u001b[0mresult\u001b[0m\u001b[1;33m[\u001b[0m\u001b[1;34m'소계'\u001b[0m\u001b[1;33m]\u001b[0m\u001b[1;33m,\u001b[0m \u001b[0mresult\u001b[0m\u001b[1;33m[\u001b[0m\u001b[1;34m'외국인비율'\u001b[0m\u001b[1;33m]\u001b[0m\u001b[1;33m)\u001b[0m \u001b[1;33m)\u001b[0m\u001b[1;33m\u001b[0m\u001b[1;33m\u001b[0m\u001b[0m\n\u001b[0m\u001b[0;32m     11\u001b[0m \u001b[1;31m# print( np.corrcoef(result['소계'], result['외국인비율']) )\u001b[0m\u001b[1;33m\u001b[0m\u001b[1;33m\u001b[0m\u001b[1;33m\u001b[0m\u001b[0m\n\u001b[0;32m     12\u001b[0m \u001b[1;31m# print( np.corrcoef(result['소계'], result['고령자비율']) )\u001b[0m\u001b[1;33m\u001b[0m\u001b[1;33m\u001b[0m\u001b[1;33m\u001b[0m\u001b[0m\n",
      "\u001b[1;31mNameError\u001b[0m: name 'result' is not defined"
     ]
    }
   ],
   "source": [
    "\"\"\" 4. 분석하기 \n",
    "        외국인비율, 고령자비율, 인구수와 CCTV 수와 상관있나?\n",
    "        \n",
    "        상관계수로 확인 : numpy.corrcoef()\n",
    "            0.1이하 상관없음\n",
    "            0.3이하 약한 상관관계\n",
    "            0.7이하 뚜렷한 상관관계\n",
    "\"\"\"\n",
    "import numpy as np\n",
    "\n",
    "# print( np.corrcoef(result['소계'], result['외국인비율']) )\n",
    "# print( np.corrcoef(result['소계'], result['고령자비율']) )\n",
    "# print( np.corrcoef(result['소계'], result['인구수']) )\n",
    "\n"
   ]
  },
  {
   "cell_type": "markdown",
   "metadata": {},
   "source": [
    "## 5. 시각화로 분석을 보여주기"
   ]
  },
  {
   "cell_type": "code",
   "execution_count": null,
   "metadata": {},
   "outputs": [],
   "source": [
    "\n",
    "\n"
   ]
  },
  {
   "cell_type": "markdown",
   "metadata": {},
   "source": [
    "## 추가적으로 분석을 하여 결과 도출"
   ]
  },
  {
   "cell_type": "code",
   "execution_count": null,
   "metadata": {},
   "outputs": [],
   "source": []
  }
 ],
 "metadata": {
  "kernelspec": {
   "display_name": "Python 3",
   "language": "python",
   "name": "python3"
  },
  "language_info": {
   "codemirror_mode": {
    "name": "ipython",
    "version": 3
   },
   "file_extension": ".py",
   "mimetype": "text/x-python",
   "name": "python",
   "nbconvert_exporter": "python",
   "pygments_lexer": "ipython3",
   "version": "3.8.8"
  }
 },
 "nbformat": 4,
 "nbformat_minor": 2
}
